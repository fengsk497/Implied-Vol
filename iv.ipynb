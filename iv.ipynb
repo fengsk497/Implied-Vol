{
 "cells": [
  {
   "cell_type": "markdown",
   "metadata": {},
   "source": [
    "# Implied Volatility and Variance Swap Pricing\n",
   
   ]
  },
  {
   "cell_type": "code",
   "execution_count": 392,
   "metadata": {},
   "outputs": [],
   "source": [
    "import pandas as pd\n",
    "import numpy as np\n",
    "import matplotlib.pyplot as plt\n",
    "%matplotlib inline\n",
    "from scipy.optimize import least_squares, minimize\n",
    "from scipy.stats import norm\n",
    "from datetime import datetime"
   ]
  },
  {
   "cell_type": "markdown",
   "metadata": {},
   "source": [
    "## Step1"
   ]
  },
  {
   "cell_type": "markdown",
   "metadata": {},
   "source": [
    "To get midmarket implied volatility, I first try to get the parameters I need from data. Time to maturity T, current price S0(Mid Price) can be directly read from data."
   ]
  },
  {
   "cell_type": "code",
   "execution_count": 393,
   "metadata": {},
   "outputs": [
    {
     "data": {
      "text/html": [
       "<div>\n",
       "<style scoped>\n",
       "    .dataframe tbody tr th:only-of-type {\n",
       "        vertical-align: middle;\n",
       "    }\n",
       "\n",
       "    .dataframe tbody tr th {\n",
       "        vertical-align: top;\n",
       "    }\n",
       "\n",
       "    .dataframe thead th {\n",
       "        text-align: right;\n",
       "    }\n",
       "</style>\n",
       "<table border=\"1\" class=\"dataframe\">\n",
       "  <thead>\n",
       "    <tr style=\"text-align: right;\">\n",
       "      <th></th>\n",
       "      <th></th>\n",
       "      <th></th>\n",
       "      <th></th>\n",
       "      <th></th>\n",
       "      <th></th>\n",
       "      <th>^SPX (Standard &amp; Poors 500 Index)</th>\n",
       "      <th>2707.88</th>\n",
       "      <th>0.0001</th>\n",
       "    </tr>\n",
       "  </thead>\n",
       "  <tbody>\n",
       "    <tr>\n",
       "      <th>Feb 08 2019 @ 17:45 ET</th>\n",
       "      <th>Bid</th>\n",
       "      <th>2671.06</th>\n",
       "      <th>Ask</th>\n",
       "      <th>2729.02</th>\n",
       "      <th>Size</th>\n",
       "      <td>1x1</td>\n",
       "      <td>Vol</td>\n",
       "      <td>NaN</td>\n",
       "    </tr>\n",
       "    <tr>\n",
       "      <th>Expiration Date</th>\n",
       "      <th>Calls</th>\n",
       "      <th>CBid</th>\n",
       "      <th>CAsk</th>\n",
       "      <th>Strike</th>\n",
       "      <th>Puts</th>\n",
       "      <td>PBid</td>\n",
       "      <td>PAsk</td>\n",
       "      <td>NaN</td>\n",
       "    </tr>\n",
       "    <tr>\n",
       "      <th rowspan=\"3\" valign=\"top\">12/20/2019</th>\n",
       "      <th>SPX191220C01750000</th>\n",
       "      <th>955.0</th>\n",
       "      <th>958.7</th>\n",
       "      <th>1750.0</th>\n",
       "      <th>SPX191220P01750000</th>\n",
       "      <td>8.9</td>\n",
       "      <td>9.5</td>\n",
       "      <td>NaN</td>\n",
       "    </tr>\n",
       "    <tr>\n",
       "      <th>SPX191220C01775000</th>\n",
       "      <th>931.4</th>\n",
       "      <th>935.1</th>\n",
       "      <th>1775.0</th>\n",
       "      <th>SPX191220P01775000</th>\n",
       "      <td>9.7</td>\n",
       "      <td>10.3</td>\n",
       "      <td>NaN</td>\n",
       "    </tr>\n",
       "    <tr>\n",
       "      <th>SPX191220C01800000</th>\n",
       "      <th>907.9</th>\n",
       "      <th>911.5</th>\n",
       "      <th>1800.0</th>\n",
       "      <th>SPX191220P01800000</th>\n",
       "      <td>10.6</td>\n",
       "      <td>11.2</td>\n",
       "      <td>NaN</td>\n",
       "    </tr>\n",
       "  </tbody>\n",
       "</table>\n",
       "</div>"
      ],
      "text/plain": [
       "                                                                                   ^SPX (Standard & Poors 500 Index)  \\\n",
       "Feb 08 2019 @ 17:45 ET Bid                2671.06 Ask   2729.02 Size                                             1x1   \n",
       "Expiration Date        Calls              CBid    CAsk  Strike  Puts                                            PBid   \n",
       "12/20/2019             SPX191220C01750000 955.0   958.7 1750.0  SPX191220P01750000                               8.9   \n",
       "                       SPX191220C01775000 931.4   935.1 1775.0  SPX191220P01775000                               9.7   \n",
       "                       SPX191220C01800000 907.9   911.5 1800.0  SPX191220P01800000                              10.6   \n",
       "\n",
       "                                                                                   2707.88  \\\n",
       "Feb 08 2019 @ 17:45 ET Bid                2671.06 Ask   2729.02 Size                   Vol   \n",
       "Expiration Date        Calls              CBid    CAsk  Strike  Puts                  PAsk   \n",
       "12/20/2019             SPX191220C01750000 955.0   958.7 1750.0  SPX191220P01750000     9.5   \n",
       "                       SPX191220C01775000 931.4   935.1 1775.0  SPX191220P01775000    10.3   \n",
       "                       SPX191220C01800000 907.9   911.5 1800.0  SPX191220P01800000    11.2   \n",
       "\n",
       "                                                                                    0.0001  \n",
       "Feb 08 2019 @ 17:45 ET Bid                2671.06 Ask   2729.02 Size                   NaN  \n",
       "Expiration Date        Calls              CBid    CAsk  Strike  Puts                   NaN  \n",
       "12/20/2019             SPX191220C01750000 955.0   958.7 1750.0  SPX191220P01750000     NaN  \n",
       "                       SPX191220C01775000 931.4   935.1 1775.0  SPX191220P01775000     NaN  \n",
       "                       SPX191220C01800000 907.9   911.5 1800.0  SPX191220P01800000     NaN  "
      ]
     },
     "execution_count": 393,
     "metadata": {},
     "output_type": "execute_result"
    }
   ],
   "source": [
    "#read data\n",
    "df=pd.read_csv(\"quotedata.dat\")\n",
    "df.head()"
   ]
  },
  {
   "cell_type": "code",
   "execution_count": 394,
   "metadata": {},
   "outputs": [],
   "source": [
    "## from above dataframe, we can get some parameters needed for future calculation\n",
    "t=datetime(2019,2,8)\n",
    "T=datetime(2019,12,20)\n",
    "time_delta=T-t\n",
    "time_delta_year=time_delta.days/365\n",
    "S0=(2671.06+2729.02)/2"
   ]
  },
  {
   "cell_type": "code",
   "execution_count": 395,
   "metadata": {},
   "outputs": [
    {
     "data": {
      "text/html": [
       "<div>\n",
       "<style scoped>\n",
       "    .dataframe tbody tr th:only-of-type {\n",
       "        vertical-align: middle;\n",
       "    }\n",
       "\n",
       "    .dataframe tbody tr th {\n",
       "        vertical-align: top;\n",
       "    }\n",
       "\n",
       "    .dataframe thead th {\n",
       "        text-align: right;\n",
       "    }\n",
       "</style>\n",
       "<table border=\"1\" class=\"dataframe\">\n",
       "  <thead>\n",
       "    <tr style=\"text-align: right;\">\n",
       "      <th></th>\n",
       "      <th>Expiration Date</th>\n",
       "      <th>Calls</th>\n",
       "      <th>CBid</th>\n",
       "      <th>CAsk</th>\n",
       "      <th>Strike</th>\n",
       "      <th>Puts</th>\n",
       "      <th>PBid</th>\n",
       "      <th>PAsk</th>\n",
       "      <th>Moneyness</th>\n",
       "      <th>CallAvg</th>\n",
       "      <th>PutAvg</th>\n",
       "    </tr>\n",
       "  </thead>\n",
       "  <tbody>\n",
       "    <tr>\n",
       "      <th>0</th>\n",
       "      <td>12/20/2019</td>\n",
       "      <td>SPX191220C01750000</td>\n",
       "      <td>955.0</td>\n",
       "      <td>958.7</td>\n",
       "      <td>1750.0</td>\n",
       "      <td>SPX191220P01750000</td>\n",
       "      <td>8.9</td>\n",
       "      <td>9.5</td>\n",
       "      <td>-0.433651</td>\n",
       "      <td>956.85</td>\n",
       "      <td>9.20</td>\n",
       "    </tr>\n",
       "    <tr>\n",
       "      <th>1</th>\n",
       "      <td>12/20/2019</td>\n",
       "      <td>SPX191220C01775000</td>\n",
       "      <td>931.4</td>\n",
       "      <td>935.1</td>\n",
       "      <td>1775.0</td>\n",
       "      <td>SPX191220P01775000</td>\n",
       "      <td>9.7</td>\n",
       "      <td>10.3</td>\n",
       "      <td>-0.419466</td>\n",
       "      <td>933.25</td>\n",
       "      <td>10.00</td>\n",
       "    </tr>\n",
       "    <tr>\n",
       "      <th>2</th>\n",
       "      <td>12/20/2019</td>\n",
       "      <td>SPX191220C01800000</td>\n",
       "      <td>907.9</td>\n",
       "      <td>911.5</td>\n",
       "      <td>1800.0</td>\n",
       "      <td>SPX191220P01800000</td>\n",
       "      <td>10.6</td>\n",
       "      <td>11.2</td>\n",
       "      <td>-0.405480</td>\n",
       "      <td>909.70</td>\n",
       "      <td>10.90</td>\n",
       "    </tr>\n",
       "    <tr>\n",
       "      <th>3</th>\n",
       "      <td>12/20/2019</td>\n",
       "      <td>SPX191220C01825000</td>\n",
       "      <td>884.5</td>\n",
       "      <td>888.1</td>\n",
       "      <td>1825.0</td>\n",
       "      <td>SPX191220P01825000</td>\n",
       "      <td>11.5</td>\n",
       "      <td>12.2</td>\n",
       "      <td>-0.391687</td>\n",
       "      <td>886.30</td>\n",
       "      <td>11.85</td>\n",
       "    </tr>\n",
       "    <tr>\n",
       "      <th>4</th>\n",
       "      <td>12/20/2019</td>\n",
       "      <td>SPX191220C01850000</td>\n",
       "      <td>861.1</td>\n",
       "      <td>864.7</td>\n",
       "      <td>1850.0</td>\n",
       "      <td>SPX191220P01850000</td>\n",
       "      <td>12.5</td>\n",
       "      <td>13.2</td>\n",
       "      <td>-0.378081</td>\n",
       "      <td>862.90</td>\n",
       "      <td>12.85</td>\n",
       "    </tr>\n",
       "  </tbody>\n",
       "</table>\n",
       "</div>"
      ],
      "text/plain": [
       "  Expiration Date               Calls   CBid   CAsk  Strike  \\\n",
       "0      12/20/2019  SPX191220C01750000  955.0  958.7  1750.0   \n",
       "1      12/20/2019  SPX191220C01775000  931.4  935.1  1775.0   \n",
       "2      12/20/2019  SPX191220C01800000  907.9  911.5  1800.0   \n",
       "3      12/20/2019  SPX191220C01825000  884.5  888.1  1825.0   \n",
       "4      12/20/2019  SPX191220C01850000  861.1  864.7  1850.0   \n",
       "\n",
       "                 Puts  PBid  PAsk  Moneyness  CallAvg  PutAvg  \n",
       "0  SPX191220P01750000   8.9   9.5  -0.433651   956.85    9.20  \n",
       "1  SPX191220P01775000   9.7  10.3  -0.419466   933.25   10.00  \n",
       "2  SPX191220P01800000  10.6  11.2  -0.405480   909.70   10.90  \n",
       "3  SPX191220P01825000  11.5  12.2  -0.391687   886.30   11.85  \n",
       "4  SPX191220P01850000  12.5  13.2  -0.378081   862.90   12.85  "
      ]
     },
     "execution_count": 395,
     "metadata": {},
     "output_type": "execute_result"
    }
   ],
   "source": [
    "## modify the dataframe output so that we can access data easily, specificlly omnit first 2 rows and add moneyness\n",
    "df=pd.read_csv(\"quotedata.dat\", header=2)\n",
    "df['Moneyness']=np.log(df['Strike']/S0)\n",
    "df['CallAvg']=(df['CBid']+df['CAsk'])/2\n",
    "df['PutAvg']=(df['PBid']+df['PAsk'])/2\n",
    "df.head()"
   ]
  },
  {
   "cell_type": "markdown",
   "metadata": {},
   "source": [
    "I need to use put-call parity to derive risk-free interest rate, and dividend yield. The basic idea is since time to maturity is the same for each Strike K, so the dividend yield q and risk free rate r should be equal to each contracts, which allow us to use Least Square regression to get an estimate from put-call parity equation."
   ]
  },
  {
   "cell_type": "code",
   "execution_count": 396,
   "metadata": {},
   "outputs": [
    {
     "name": "stdout",
     "output_type": "stream",
     "text": [
      "[0.02687527 0.01840702]\n"
     ]
    }
   ],
   "source": [
    "## Getting market implied r(interest rate),q(dividend yield), using put-call parity and optimizer\n",
    "## Since the expiration date and underlying for each option is the same, so they should share same q, r.\n",
    "x0=np.array([0.5555,1])\n",
    "def objective(x_):\n",
    "    return np.array(df.apply(lambda x: (np.exp(-x_[0]*time_delta_year)*(S0*np.exp((x_[0]-x_[1])*time_delta_year)-x.Strike)\\\n",
    "                                   -x.CallAvg+x.PutAvg),axis=1))\n",
    "res_1 = least_squares(objective, x0)\n",
    "print(res_1.x) "
   ]
  },
  {
   "cell_type": "code",
   "execution_count": 397,
   "metadata": {},
   "outputs": [],
   "source": [
    "##From above caculation, we obtained r=0.0269, q=0.0184\n",
    "r=0.0269\n",
    "q=0.0184"
   ]
  },
  {
   "cell_type": "markdown",
   "metadata": {},
   "source": [
    "Now with all the parameters needed, I can now calculate implied volatility. Since BS formula does not have a invese function, we have to use numerical methods to find the root. Here I applied Interval Bisection method, since option price is monotonicly increasing on volatility. As we can see below, initial guess with v=0 can always lead to a negative value of BS(V,P)-c, and v=1 can always lead to a positive value of BS(V,P)-c. Since BS Function is continous with volatility, so there must be a root of vol0 to let BS(V,P)=c, which is the implied volatility we want to find."
   ]
  },
  {
   "cell_type": "code",
   "execution_count": 398,
   "metadata": {},
   "outputs": [],
   "source": [
    "#Now we define a solver to calculate the implied volatility using Interval Bisection Method\n",
    "def BS_fomula_call(S,sigma,K,T,r,q):\n",
    "    d1=(np.log(S/K)+(r-q+(sigma**2)/2)*T)/(sigma*np.sqrt(T))\n",
    "    d2=d1-sigma*np.sqrt(T)\n",
    "    return S*np.exp(-q*T)*norm.cdf(d1)-K*np.exp(-r*T)*norm.cdf(d2)\n",
    "\n",
    "def BS_fomula_put(S,sigma,K,T,r,q):\n",
    "    d1=(np.log(S/K)+(r-q+(sigma**2)/2)*T)/(sigma*np.sqrt(T))\n",
    "    d2=d1-sigma*np.sqrt(T)\n",
    "    return K*np.exp(-r*T)*norm.cdf(-d2)-S*np.exp(-q*T)*norm.cdf(-d1)"
   ]
  },
  {
   "cell_type": "code",
   "execution_count": 399,
   "metadata": {},
   "outputs": [
    {
     "name": "stderr",
     "output_type": "stream",
     "text": [
      "/anaconda3/lib/python3.6/site-packages/ipykernel_launcher.py:3: RuntimeWarning: divide by zero encountered in double_scalars\n",
      "  This is separate from the ipykernel package so we can avoid doing imports until\n"
     ]
    },
    {
     "data": {
      "text/plain": [
       "True"
      ]
     },
     "execution_count": 399,
     "metadata": {},
     "output_type": "execute_result"
    }
   ],
   "source": [
    "# To use Interval Bisection Method, we need to find two initial guess, which is v_left=0 and v_right=1, test the guess as follows\n",
    "(df.apply(lambda x: BS_fomula_call(S0,0,x.Strike,time_delta_year,r,q)-x.CallAvg,axis=1)<0).all()"
   ]
  },
  {
   "cell_type": "code",
   "execution_count": 400,
   "metadata": {},
   "outputs": [
    {
     "data": {
      "text/plain": [
       "True"
      ]
     },
     "execution_count": 400,
     "metadata": {},
     "output_type": "execute_result"
    }
   ],
   "source": [
    "#verify guess\n",
    "(df.apply(lambda x: BS_fomula_call(S0,1,x.Strike,time_delta_year,r,q)-x.CallAvg,axis=1)>0).all()"
   ]
  },
  {
   "cell_type": "code",
   "execution_count": 401,
   "metadata": {},
   "outputs": [],
   "source": [
    "#define interval bisection method for calculating call IV\n",
    "def implied_vol_call(S,K,T,r,q,c,tol=1e-10):\n",
    "    v0_neg=0\n",
    "    v0_pos=1\n",
    "    v1=(v0_neg+v0_pos)/2\n",
    "    target=BS_fomula_call(S,v1,K,T,r,q)-c\n",
    "    while np.abs(target)>tol:\n",
    "        if target>0:\n",
    "            v0_pos=v1\n",
    "        else:\n",
    "            v0_neg=v1\n",
    "        v1=(v0_neg+v0_pos)/2\n",
    "        target=BS_fomula_call(S,v1,K,T,r,q)-c\n",
    "    return v1"
   ]
  },
  {
   "cell_type": "code",
   "execution_count": 402,
   "metadata": {},
   "outputs": [
    {
     "name": "stderr",
     "output_type": "stream",
     "text": [
      "/anaconda3/lib/python3.6/site-packages/ipykernel_launcher.py:8: RuntimeWarning: divide by zero encountered in double_scalars\n",
      "  \n"
     ]
    },
    {
     "data": {
      "text/plain": [
       "True"
      ]
     },
     "execution_count": 402,
     "metadata": {},
     "output_type": "execute_result"
    }
   ],
   "source": [
    "# To use Interval Bisection Method, we need to find two initial guess, which is v_left=0 and v_right=1, test the guess as follows\n",
    "(df.apply(lambda x: BS_fomula_put(S0,0,x.Strike,time_delta_year,r,q)-x.PutAvg,axis=1)<0).all()"
   ]
  },
  {
   "cell_type": "code",
   "execution_count": 403,
   "metadata": {},
   "outputs": [
    {
     "data": {
      "text/plain": [
       "True"
      ]
     },
     "execution_count": 403,
     "metadata": {},
     "output_type": "execute_result"
    }
   ],
   "source": [
    "#verify guess\n",
    "(df.apply(lambda x: BS_fomula_put(S0,1,x.Strike,time_delta_year,r,q)-x.PutAvg,axis=1)>0).all()"
   ]
  },
  {
   "cell_type": "code",
   "execution_count": 404,
   "metadata": {},
   "outputs": [],
   "source": [
    "#define interval bisection method for calculating put IV\n",
    "def implied_vol_put(S,K,T,r,q,p,tol=1e-10):\n",
    "    v0_neg=0\n",
    "    v0_pos=1\n",
    "    v1=(v0_neg+v0_pos)/2\n",
    "    target=BS_fomula_put(S,v1,K,T,r,q)-p\n",
    "    while np.abs(target)>tol:\n",
    "        if target>0:\n",
    "            v0_pos=v1\n",
    "        else:\n",
    "            v0_neg=v1\n",
    "        v1=(v0_neg+v0_pos)/2\n",
    "        target=BS_fomula_put(S,v1,K,T,r,q)-p\n",
    "    return v1"
   ]
  },
  {
   "cell_type": "code",
   "execution_count": 405,
   "metadata": {},
   "outputs": [
    {
     "data": {
      "text/plain": [
       "0.27445610449558444"
      ]
     },
     "execution_count": 405,
     "metadata": {},
     "output_type": "execute_result"
    }
   ],
   "source": [
    "#verify the result\n",
    "implied_vol_call(S=S0,K=1750.0,T=time_delta_year,r=r,q=q,c=956.85,tol=1e-10)"
   ]
  },
  {
   "cell_type": "code",
   "execution_count": 406,
   "metadata": {},
   "outputs": [
    {
     "data": {
      "text/plain": [
       "956.8499999999931"
      ]
     },
     "execution_count": 406,
     "metadata": {},
     "output_type": "execute_result"
    }
   ],
   "source": [
    "#verify the result\n",
    "BS_fomula_call(S=S0,sigma=0.27445610449558444,K=1750.0,T=time_delta_year,r=r,q=q)"
   ]
  },
  {
   "cell_type": "code",
   "execution_count": 407,
   "metadata": {},
   "outputs": [
    {
     "data": {
      "text/plain": [
       "0.2745238066308957"
      ]
     },
     "execution_count": 407,
     "metadata": {},
     "output_type": "execute_result"
    }
   ],
   "source": [
    "#verify the result\n",
    "implied_vol_put(S=S0,K=1750.0,T=time_delta_year,r=r,q=q,p=9.20,tol=1e-10)"
   ]
  },
  {
   "cell_type": "code",
   "execution_count": 408,
   "metadata": {},
   "outputs": [
    {
     "data": {
      "text/plain": [
       "9.199999999990766"
      ]
     },
     "execution_count": 408,
     "metadata": {},
     "output_type": "execute_result"
    }
   ],
   "source": [
    "#verify the result\n",
    "BS_fomula_put(S=S0,sigma=0.2745238066308957,K=1750.0,T=time_delta_year,r=r,q=q)"
   ]
  },
  {
   "cell_type": "code",
   "execution_count": 409,
   "metadata": {},
   "outputs": [],
   "source": [
    "#apply the above function to find all IV for each K\n",
    "df['Call_IV']=df.apply(lambda x:implied_vol_call(S=S0,K=x.Strike,T=time_delta_year,r=r,q=q,c=x.CallAvg,tol=1e-10),axis=1)\n",
    "df['Put_IV']=df.apply(lambda x:implied_vol_put(S=S0,K=x.Strike,T=time_delta_year,r=r,q=q,p=x.PutAvg,tol=1e-10),axis=1)"
   ]
  },
  {
   "cell_type": "markdown",
   "metadata": {},
   "source": [
    "With each call option and put option price, we can always get two almost same but still different implied volatility. There should only in reality one volatility, so I need to combine two IVs into one. Since In-the-Money option is illiquid, which means it is not popular traded by investors, and we know implied volatility is a market expactation on future volatility, so an illiquid option has little indication on implied volatility. So here I choose the always using Out of the Money(OTM) option's Implied Volatility as final solution for my IV calculation. The result is as follows."
   ]
  },
  {
   "cell_type": "code",
   "execution_count": 410,
   "metadata": {},
   "outputs": [
    {
     "data": {
      "text/html": [
       "<div>\n",
       "<style scoped>\n",
       "    .dataframe tbody tr th:only-of-type {\n",
       "        vertical-align: middle;\n",
       "    }\n",
       "\n",
       "    .dataframe tbody tr th {\n",
       "        vertical-align: top;\n",
       "    }\n",
       "\n",
       "    .dataframe thead th {\n",
       "        text-align: right;\n",
       "    }\n",
       "</style>\n",
       "<table border=\"1\" class=\"dataframe\">\n",
       "  <thead>\n",
       "    <tr style=\"text-align: right;\">\n",
       "      <th></th>\n",
       "      <th>Expiration Date</th>\n",
       "      <th>Calls</th>\n",
       "      <th>CBid</th>\n",
       "      <th>CAsk</th>\n",
       "      <th>Strike</th>\n",
       "      <th>Puts</th>\n",
       "      <th>PBid</th>\n",
       "      <th>PAsk</th>\n",
       "      <th>Moneyness</th>\n",
       "      <th>CallAvg</th>\n",
       "      <th>PutAvg</th>\n",
       "      <th>Call_IV</th>\n",
       "      <th>Put_IV</th>\n",
       "      <th>IV</th>\n",
       "    </tr>\n",
       "  </thead>\n",
       "  <tbody>\n",
       "    <tr>\n",
       "      <th>0</th>\n",
       "      <td>12/20/2019</td>\n",
       "      <td>SPX191220C01750000</td>\n",
       "      <td>955.0</td>\n",
       "      <td>958.7</td>\n",
       "      <td>1750.0</td>\n",
       "      <td>SPX191220P01750000</td>\n",
       "      <td>8.9</td>\n",
       "      <td>9.5</td>\n",
       "      <td>-0.433651</td>\n",
       "      <td>956.85</td>\n",
       "      <td>9.20</td>\n",
       "      <td>0.274456</td>\n",
       "      <td>0.274524</td>\n",
       "      <td>0.274524</td>\n",
       "    </tr>\n",
       "    <tr>\n",
       "      <th>1</th>\n",
       "      <td>12/20/2019</td>\n",
       "      <td>SPX191220C01775000</td>\n",
       "      <td>931.4</td>\n",
       "      <td>935.1</td>\n",
       "      <td>1775.0</td>\n",
       "      <td>SPX191220P01775000</td>\n",
       "      <td>9.7</td>\n",
       "      <td>10.3</td>\n",
       "      <td>-0.419466</td>\n",
       "      <td>933.25</td>\n",
       "      <td>10.00</td>\n",
       "      <td>0.271404</td>\n",
       "      <td>0.271328</td>\n",
       "      <td>0.271328</td>\n",
       "    </tr>\n",
       "    <tr>\n",
       "      <th>2</th>\n",
       "      <td>12/20/2019</td>\n",
       "      <td>SPX191220C01800000</td>\n",
       "      <td>907.9</td>\n",
       "      <td>911.5</td>\n",
       "      <td>1800.0</td>\n",
       "      <td>SPX191220P01800000</td>\n",
       "      <td>10.6</td>\n",
       "      <td>11.2</td>\n",
       "      <td>-0.405480</td>\n",
       "      <td>909.70</td>\n",
       "      <td>10.90</td>\n",
       "      <td>0.268297</td>\n",
       "      <td>0.268343</td>\n",
       "      <td>0.268343</td>\n",
       "    </tr>\n",
       "    <tr>\n",
       "      <th>3</th>\n",
       "      <td>12/20/2019</td>\n",
       "      <td>SPX191220C01825000</td>\n",
       "      <td>884.5</td>\n",
       "      <td>888.1</td>\n",
       "      <td>1825.0</td>\n",
       "      <td>SPX191220P01825000</td>\n",
       "      <td>11.5</td>\n",
       "      <td>12.2</td>\n",
       "      <td>-0.391687</td>\n",
       "      <td>886.30</td>\n",
       "      <td>11.85</td>\n",
       "      <td>0.265590</td>\n",
       "      <td>0.265280</td>\n",
       "      <td>0.265280</td>\n",
       "    </tr>\n",
       "    <tr>\n",
       "      <th>4</th>\n",
       "      <td>12/20/2019</td>\n",
       "      <td>SPX191220C01850000</td>\n",
       "      <td>861.1</td>\n",
       "      <td>864.7</td>\n",
       "      <td>1850.0</td>\n",
       "      <td>SPX191220P01850000</td>\n",
       "      <td>12.5</td>\n",
       "      <td>13.2</td>\n",
       "      <td>-0.378081</td>\n",
       "      <td>862.90</td>\n",
       "      <td>12.85</td>\n",
       "      <td>0.262540</td>\n",
       "      <td>0.262136</td>\n",
       "      <td>0.262136</td>\n",
       "    </tr>\n",
       "  </tbody>\n",
       "</table>\n",
       "</div>"
      ],
      "text/plain": [
       "  Expiration Date               Calls   CBid   CAsk  Strike  \\\n",
       "0      12/20/2019  SPX191220C01750000  955.0  958.7  1750.0   \n",
       "1      12/20/2019  SPX191220C01775000  931.4  935.1  1775.0   \n",
       "2      12/20/2019  SPX191220C01800000  907.9  911.5  1800.0   \n",
       "3      12/20/2019  SPX191220C01825000  884.5  888.1  1825.0   \n",
       "4      12/20/2019  SPX191220C01850000  861.1  864.7  1850.0   \n",
       "\n",
       "                 Puts  PBid  PAsk  Moneyness  CallAvg  PutAvg   Call_IV  \\\n",
       "0  SPX191220P01750000   8.9   9.5  -0.433651   956.85    9.20  0.274456   \n",
       "1  SPX191220P01775000   9.7  10.3  -0.419466   933.25   10.00  0.271404   \n",
       "2  SPX191220P01800000  10.6  11.2  -0.405480   909.70   10.90  0.268297   \n",
       "3  SPX191220P01825000  11.5  12.2  -0.391687   886.30   11.85  0.265590   \n",
       "4  SPX191220P01850000  12.5  13.2  -0.378081   862.90   12.85  0.262540   \n",
       "\n",
       "     Put_IV        IV  \n",
       "0  0.274524  0.274524  \n",
       "1  0.271328  0.271328  \n",
       "2  0.268343  0.268343  \n",
       "3  0.265280  0.265280  \n",
       "4  0.262136  0.262136  "
      ]
     },
     "execution_count": 410,
     "metadata": {},
     "output_type": "execute_result"
    }
   ],
   "source": [
    "#Always using out of the money option's IV as final result\n",
    "#df['IV']=(df['Call_IV']+df['Put_IV'])/2\n",
    "df['IV']=df.apply(lambda x: x.Put_IV if x.Moneyness<=0 else x.Call_IV,axis=1)\n",
    "df.head()"
   ]
  },
  {
   "cell_type": "code",
   "execution_count": 411,
   "metadata": {},
   "outputs": [
    {
     "data": {
      "text/plain": [
       "[<matplotlib.lines.Line2D at 0x1a19e90080>]"
      ]
     },
     "execution_count": 411,
     "metadata": {},
     "output_type": "execute_result"
    },
    {
     "data": {
      "image/png": "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\n",
      "text/plain": [
       "<Figure size 432x288 with 1 Axes>"
      ]
     },
     "metadata": {},
     "output_type": "display_data"
    }
   ],
   "source": [
    "#plot the volatility curve\n",
    "plt.plot(df['Strike'],df['IV'])"
   ]
  },
  {
   "cell_type": "markdown",
   "metadata": {},
   "source": [
    "## Step2"
   ]
  },
  {
   "cell_type": "markdown",
   "metadata": {},
   "source": [
    "To fit a SVI model to best describe midmarket volatilities found in Step1. We use least squares optimization to fit P'=argmin_P sum_K((MidVol(K)-SVIVol(K, P))^2). I tried 3 weighted methods to compare fitting result. The first is equal weighted, the second method is weighting by the vega of the strike (which gives more weight to at-the-money options). I don't quite understand what is inversely proportional to volatility bid/ask spread, so I weigted by average spread of call and put option, which indicates if they are at the money or not, so this method generate similar result as the second one.\n",
    "\n",
    "However, the result shows equal weighted has the best accuracy. I think about why we want to give more weight to at the money options(vega weighted). As we know vega is largest when an option is at the money, so the option price changes fastest when Strike is close to S0, however our data is not distributed according to vega. In fact, our data are distributed evenly according to Strike, so it has more data point where option price is less sensitive to volatility change. So naturally, we want to give more weight on where vega is the largest, to capture the largest change. Why vega weighted method does not perform well is unclear, but I think it is related to it gives too little weight on small vega strike.  "
   ]
  },
  {
   "cell_type": "code",
   "execution_count": 412,
   "metadata": {},
   "outputs": [
    {
     "name": "stderr",
     "output_type": "stream",
     "text": [
      "/anaconda3/lib/python3.6/site-packages/ipykernel_launcher.py:4: RuntimeWarning: invalid value encountered in sqrt\n",
      "  after removing the cwd from sys.path.\n"
     ]
    },
    {
     "name": "stdout",
     "output_type": "stream",
     "text": [
      "[ 0.00979566  0.07888637 -0.47678181  0.12790547  0.05506698]\n"
     ]
    }
   ],
   "source": [
    "##Equal Weighted Error\n",
    "x0_svi_equal_weighted=np.array([0.2,0.2,-0.2,0,0.2])\n",
    "def objective_equal_weighted(x_):\n",
    "    return np.array(df.apply(lambda x:x.IV-np.sqrt(x_[0]+x_[1]*(x_[2]*(x.Moneyness-x_[3])+\\\n",
    "                                                         np.sqrt((x.Moneyness-x_[3])**2+x_[4]**2))) ,axis=1))\n",
    "res_svi_equal_weighted = least_squares(objective_equal_weighted, x0_svi_equal_weighted)\n",
    "print(res_svi_equal_weighted.x) "
   ]
  },
  {
   "cell_type": "code",
   "execution_count": 413,
   "metadata": {},
   "outputs": [
    {
     "name": "stderr",
     "output_type": "stream",
     "text": [
      "/anaconda3/lib/python3.6/site-packages/ipykernel_launcher.py:9: RuntimeWarning: invalid value encountered in sqrt\n",
      "  if __name__ == '__main__':\n"
     ]
    },
    {
     "name": "stdout",
     "output_type": "stream",
     "text": [
      "[-0.00310327  0.15104774 -0.1986703  -0.01088484  0.1684824 ]\n"
     ]
    }
   ],
   "source": [
    "##Vega Weighted Error\n",
    "x0_svi_vega=np.array([0.2,0.2,-0.2,0,0.2])\n",
    "def Vega(S,sigma,K,T,r,q):\n",
    "    d1=(np.log(S/K)+(r-q+(sigma**2)/2)*T)/(sigma*np.sqrt(T))\n",
    "    return S*np.exp(-q*T)*np.sqrt(T)*norm.pdf(d1)\n",
    "weighting_vega=np.array(df.apply(lambda x:Vega(S0,x.IV,x.Strike,time_delta_year,r,q),axis=1))\n",
    "weighting_vega=weighting_vega/weighting_vega.sum()\n",
    "def objective_vega(x_):\n",
    "    original_error=np.array(df.apply(lambda x:x.IV-np.sqrt(x_[0]+x_[1]*(x_[2]*(x.Moneyness-x_[3])+\\\n",
    "                                                         np.sqrt((x.Moneyness-x_[3])**2+x_[4]**2))) ,axis=1))\n",
    "    return np.dot(original_error,weighting_vega)\n",
    "res_svi_vega_weighted = least_squares(objective_vega, x0_svi_vega)\n",
    "print(res_svi_vega_weighted.x) "
   ]
  },
  {
   "cell_type": "code",
   "execution_count": 414,
   "metadata": {},
   "outputs": [
    {
     "name": "stderr",
     "output_type": "stream",
     "text": [
      "/anaconda3/lib/python3.6/site-packages/ipykernel_launcher.py:9: RuntimeWarning: invalid value encountered in sqrt\n",
      "  if __name__ == '__main__':\n"
     ]
    },
    {
     "name": "stdout",
     "output_type": "stream",
     "text": [
      "[-0.00364115  0.14238203 -0.19764909 -0.01278471  0.17224596]\n"
     ]
    }
   ],
   "source": [
    "## proportional to bid/ask spread\n",
    "##I have some trouble understanding the precisely meaning of bid/ask spread\n",
    "df['Call_spread']=df['CAsk']-df['CBid']\n",
    "df['Put_spread']=df['PAsk']-df['PBid']\n",
    "df['SpreadAvg']=(df['Call_spread']+df['Put_spread'])/2\n",
    "x0_svi_spread=np.array([0.2,0.2,-0.2,0,0.2])\n",
    "weighting_spread=np.array(df['SpreadAvg']/df['SpreadAvg'].sum())\n",
    "def objective_spread(x_):\n",
    "    original_error=np.array(df.apply(lambda x:x.IV-np.sqrt(x_[0]+x_[1]*(x_[2]*(x.Moneyness-x_[3])+\\\n",
    "                                                         np.sqrt((x.Moneyness-x_[3])**2+x_[4]**2))) ,axis=1))\n",
    "    return np.dot(original_error,weighting_spread)\n",
    "res_svi_spread = least_squares(objective_spread, x0_svi_spread)\n",
    "print(res_svi_spread.x) "
   ]
  },
  {
   "cell_type": "code",
   "execution_count": 415,
   "metadata": {},
   "outputs": [],
   "source": [
    "#define SVI function\n",
    "def SVI(x_,S,K):\n",
    "    return np.sqrt(x_[0]+x_[1]*(x_[2]*(np.log(K/S)-x_[3])+np.sqrt((np.log(K/S)-x_[3])**2+x_[4]**2)))"
   ]
  },
  {
   "cell_type": "code",
   "execution_count": 416,
   "metadata": {},
   "outputs": [
    {
     "data": {
      "text/plain": [
       "<matplotlib.legend.Legend at 0x1a1a054be0>"
      ]
     },
     "execution_count": 416,
     "metadata": {},
     "output_type": "execute_result"
    },
    {
     "data": {
      "image/png": "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\n",
      "text/plain": [
       "<Figure size 432x288 with 1 Axes>"
      ]
     },
     "metadata": {},
     "output_type": "display_data"
    }
   ],
   "source": [
    "#Plot 3 models with our calculated IV, and the result shows equal-weighted function performs almost identical to orginal data\n",
    "SVI_fit_equal_weighted=[]\n",
    "SVI_fit_vega_weighted=[]\n",
    "SVI_fit_spread_weighted=[]\n",
    "for i in range(1700,3500,1):\n",
    "    SVI_fit_equal_weighted.append(SVI(res_svi_equal_weighted.x,S=S0,K=i))\n",
    "    SVI_fit_vega_weighted.append(SVI(res_svi_vega_weighted.x,S=S0,K=i))\n",
    "    SVI_fit_spread_weighted.append(SVI(res_svi_spread.x,S=S0,K=i))\n",
    "fig=plt.figure()\n",
    "ax=fig.add_subplot(1,1,1)\n",
    "ax.plot()\n",
    "ax.plot(range(1700,3500,1),SVI_fit_equal_weighted,label='equal_weighted')\n",
    "ax.plot(df['Strike'],df['IV'],label='original')\n",
    "ax.plot(range(1700,3500,1),SVI_fit_vega_weighted,label='vega_weighted')\n",
    "ax.plot(range(1700,3500,1),SVI_fit_spread_weighted,label='spread_weighted')\n",
    "ax.legend(loc='best')"
   ]
  },
  {
   "cell_type": "code",
   "execution_count": 417,
   "metadata": {},
   "outputs": [
    {
     "data": {
      "text/plain": [
       "<matplotlib.legend.Legend at 0x1a1a161d68>"
      ]
     },
     "execution_count": 417,
     "metadata": {},
     "output_type": "execute_result"
    },
    {
     "data": {
      "image/png": "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\n",
      "text/plain": [
       "<Figure size 432x288 with 1 Axes>"
      ]
     },
     "metadata": {},
     "output_type": "display_data"
    }
   ],
   "source": [
    "#Plot the residual of each model\n",
    "Residual_equal_weighted=np.array(df.apply(lambda x:SVI(res_svi_equal_weighted.x,S=S0,K=x.Strike)-x.IV,axis=1))\n",
    "Residual_vega_weighted=np.array(df.apply(lambda x:SVI(res_svi_vega_weighted.x,S=S0,K=x.Strike)-x.IV,axis=1))\n",
    "Residual_spread_weighted=np.array(df.apply(lambda x:SVI(res_svi_spread.x,S=S0,K=x.Strike)-x.IV,axis=1))\n",
    "fig=plt.figure()\n",
    "ax=fig.add_subplot(1,1,1)\n",
    "ax.scatter(df['Strike'],Residual_equal_weighted,label='equal_weighted')\n",
    "ax.scatter(df['Strike'],Residual_vega_weighted,label='vega_weighted')\n",
    "ax.scatter(df['Strike'],Residual_spread_weighted,label='spread_weighted')\n",
    "ax.legend(loc='best')"
   ]
  },
  {
   "cell_type": "code",
   "execution_count": 418,
   "metadata": {},
   "outputs": [
    {
     "data": {
      "text/html": [
       "<div>\n",
       "<style scoped>\n",
       "    .dataframe tbody tr th:only-of-type {\n",
       "        vertical-align: middle;\n",
       "    }\n",
       "\n",
       "    .dataframe tbody tr th {\n",
       "        vertical-align: top;\n",
       "    }\n",
       "\n",
       "    .dataframe thead th {\n",
       "        text-align: right;\n",
       "    }\n",
       "</style>\n",
       "<table border=\"1\" class=\"dataframe\">\n",
       "  <thead>\n",
       "    <tr style=\"text-align: right;\">\n",
       "      <th></th>\n",
       "      <th>RMSE</th>\n",
       "      <th>MAE</th>\n",
       "    </tr>\n",
       "  </thead>\n",
       "  <tbody>\n",
       "    <tr>\n",
       "      <th>Equal_weighted</th>\n",
       "      <td>2.533476e-07</td>\n",
       "      <td>0.000426</td>\n",
       "    </tr>\n",
       "    <tr>\n",
       "      <th>Vega_weighted</th>\n",
       "      <td>8.311925e-04</td>\n",
       "      <td>0.022743</td>\n",
       "    </tr>\n",
       "    <tr>\n",
       "      <th>Spread_weighted</th>\n",
       "      <td>8.322814e-04</td>\n",
       "      <td>0.025067</td>\n",
       "    </tr>\n",
       "  </tbody>\n",
       "</table>\n",
       "</div>"
      ],
      "text/plain": [
       "                         RMSE       MAE\n",
       "Equal_weighted   2.533476e-07  0.000426\n",
       "Vega_weighted    8.311925e-04  0.022743\n",
       "Spread_weighted  8.322814e-04  0.025067"
      ]
     },
     "execution_count": 418,
     "metadata": {},
     "output_type": "execute_result"
    }
   ],
   "source": [
    "#Generate RMSE, MAE matrix to compare model, apparently equaly wighted performs best\n",
    "RMSE_equal_weighted=(Residual_equal_weighted**2).mean()\n",
    "RMSE_vega_weighted=(Residual_vega_weighted**2).mean()\n",
    "RMSE_spread_weighted=(Residual_spread_weighted**2).mean()\n",
    "MAE_equal_weighted=(np.abs(Residual_equal_weighted)).mean()\n",
    "MAE_vega_weighted=(np.abs(Residual_vega_weighted)).mean()\n",
    "MAE_spread_weighted=(np.abs(Residual_spread_weighted)).mean()\n",
    "data={'RMSE':[RMSE_equal_weighted,RMSE_vega_weighted,RMSE_spread_weighted],\n",
    "     'MAE':[MAE_equal_weighted,MAE_vega_weighted,MAE_spread_weighted]}\n",
    "frame=pd.DataFrame(data,index=['Equal_weighted','Vega_weighted','Spread_weighted'])\n",
    "frame"
   ]
  },
  {
   "cell_type": "markdown",
   "metadata": {},
   "source": [
    "As we can see from above result, the equal weighted function generate the most accuate estimate of volatility, since it has the lowest RMSE and MAE. And we will choose equally weighted model in our future pricing."
   ]
  },
  {
   "cell_type": "code",
   "execution_count": 419,
   "metadata": {},
   "outputs": [
    {
     "data": {
      "text/html": [
       "<div>\n",
       "<style scoped>\n",
       "    .dataframe tbody tr th:only-of-type {\n",
       "        vertical-align: middle;\n",
       "    }\n",
       "\n",
       "    .dataframe tbody tr th {\n",
       "        vertical-align: top;\n",
       "    }\n",
       "\n",
       "    .dataframe thead th {\n",
       "        text-align: right;\n",
       "    }\n",
       "</style>\n",
       "<table border=\"1\" class=\"dataframe\">\n",
       "  <thead>\n",
       "    <tr style=\"text-align: right;\">\n",
       "      <th></th>\n",
       "      <th>Expiration Date</th>\n",
       "      <th>Calls</th>\n",
       "      <th>CBid</th>\n",
       "      <th>CAsk</th>\n",
       "      <th>Strike</th>\n",
       "      <th>Puts</th>\n",
       "      <th>PBid</th>\n",
       "      <th>PAsk</th>\n",
       "      <th>Moneyness</th>\n",
       "      <th>CallAvg</th>\n",
       "      <th>PutAvg</th>\n",
       "      <th>Call_IV</th>\n",
       "      <th>Put_IV</th>\n",
       "      <th>IV</th>\n",
       "      <th>Call_spread</th>\n",
       "      <th>Put_spread</th>\n",
       "      <th>SpreadAvg</th>\n",
       "      <th>SVI_IV</th>\n",
       "    </tr>\n",
       "  </thead>\n",
       "  <tbody>\n",
       "    <tr>\n",
       "      <th>0</th>\n",
       "      <td>12/20/2019</td>\n",
       "      <td>SPX191220C01750000</td>\n",
       "      <td>955.0</td>\n",
       "      <td>958.7</td>\n",
       "      <td>1750.0</td>\n",
       "      <td>SPX191220P01750000</td>\n",
       "      <td>8.9</td>\n",
       "      <td>9.5</td>\n",
       "      <td>-0.433651</td>\n",
       "      <td>956.85</td>\n",
       "      <td>9.20</td>\n",
       "      <td>0.274456</td>\n",
       "      <td>0.274524</td>\n",
       "      <td>0.274524</td>\n",
       "      <td>3.7</td>\n",
       "      <td>0.6</td>\n",
       "      <td>2.15</td>\n",
       "      <td>0.274642</td>\n",
       "    </tr>\n",
       "    <tr>\n",
       "      <th>1</th>\n",
       "      <td>12/20/2019</td>\n",
       "      <td>SPX191220C01775000</td>\n",
       "      <td>931.4</td>\n",
       "      <td>935.1</td>\n",
       "      <td>1775.0</td>\n",
       "      <td>SPX191220P01775000</td>\n",
       "      <td>9.7</td>\n",
       "      <td>10.3</td>\n",
       "      <td>-0.419466</td>\n",
       "      <td>933.25</td>\n",
       "      <td>10.00</td>\n",
       "      <td>0.271404</td>\n",
       "      <td>0.271328</td>\n",
       "      <td>0.271328</td>\n",
       "      <td>3.7</td>\n",
       "      <td>0.6</td>\n",
       "      <td>2.15</td>\n",
       "      <td>0.271627</td>\n",
       "    </tr>\n",
       "    <tr>\n",
       "      <th>2</th>\n",
       "      <td>12/20/2019</td>\n",
       "      <td>SPX191220C01800000</td>\n",
       "      <td>907.9</td>\n",
       "      <td>911.5</td>\n",
       "      <td>1800.0</td>\n",
       "      <td>SPX191220P01800000</td>\n",
       "      <td>10.6</td>\n",
       "      <td>11.2</td>\n",
       "      <td>-0.405480</td>\n",
       "      <td>909.70</td>\n",
       "      <td>10.90</td>\n",
       "      <td>0.268297</td>\n",
       "      <td>0.268343</td>\n",
       "      <td>0.268343</td>\n",
       "      <td>3.6</td>\n",
       "      <td>0.6</td>\n",
       "      <td>2.10</td>\n",
       "      <td>0.268622</td>\n",
       "    </tr>\n",
       "    <tr>\n",
       "      <th>3</th>\n",
       "      <td>12/20/2019</td>\n",
       "      <td>SPX191220C01825000</td>\n",
       "      <td>884.5</td>\n",
       "      <td>888.1</td>\n",
       "      <td>1825.0</td>\n",
       "      <td>SPX191220P01825000</td>\n",
       "      <td>11.5</td>\n",
       "      <td>12.2</td>\n",
       "      <td>-0.391687</td>\n",
       "      <td>886.30</td>\n",
       "      <td>11.85</td>\n",
       "      <td>0.265590</td>\n",
       "      <td>0.265280</td>\n",
       "      <td>0.265280</td>\n",
       "      <td>3.6</td>\n",
       "      <td>0.7</td>\n",
       "      <td>2.15</td>\n",
       "      <td>0.265625</td>\n",
       "    </tr>\n",
       "    <tr>\n",
       "      <th>4</th>\n",
       "      <td>12/20/2019</td>\n",
       "      <td>SPX191220C01850000</td>\n",
       "      <td>861.1</td>\n",
       "      <td>864.7</td>\n",
       "      <td>1850.0</td>\n",
       "      <td>SPX191220P01850000</td>\n",
       "      <td>12.5</td>\n",
       "      <td>13.2</td>\n",
       "      <td>-0.378081</td>\n",
       "      <td>862.90</td>\n",
       "      <td>12.85</td>\n",
       "      <td>0.262540</td>\n",
       "      <td>0.262136</td>\n",
       "      <td>0.262136</td>\n",
       "      <td>3.6</td>\n",
       "      <td>0.7</td>\n",
       "      <td>2.15</td>\n",
       "      <td>0.262636</td>\n",
       "    </tr>\n",
       "  </tbody>\n",
       "</table>\n",
       "</div>"
      ],
      "text/plain": [
       "  Expiration Date               Calls   CBid   CAsk  Strike  \\\n",
       "0      12/20/2019  SPX191220C01750000  955.0  958.7  1750.0   \n",
       "1      12/20/2019  SPX191220C01775000  931.4  935.1  1775.0   \n",
       "2      12/20/2019  SPX191220C01800000  907.9  911.5  1800.0   \n",
       "3      12/20/2019  SPX191220C01825000  884.5  888.1  1825.0   \n",
       "4      12/20/2019  SPX191220C01850000  861.1  864.7  1850.0   \n",
       "\n",
       "                 Puts  PBid  PAsk  Moneyness  CallAvg  PutAvg   Call_IV  \\\n",
       "0  SPX191220P01750000   8.9   9.5  -0.433651   956.85    9.20  0.274456   \n",
       "1  SPX191220P01775000   9.7  10.3  -0.419466   933.25   10.00  0.271404   \n",
       "2  SPX191220P01800000  10.6  11.2  -0.405480   909.70   10.90  0.268297   \n",
       "3  SPX191220P01825000  11.5  12.2  -0.391687   886.30   11.85  0.265590   \n",
       "4  SPX191220P01850000  12.5  13.2  -0.378081   862.90   12.85  0.262540   \n",
       "\n",
       "     Put_IV        IV  Call_spread  Put_spread  SpreadAvg    SVI_IV  \n",
       "0  0.274524  0.274524          3.7         0.6       2.15  0.274642  \n",
       "1  0.271328  0.271328          3.7         0.6       2.15  0.271627  \n",
       "2  0.268343  0.268343          3.6         0.6       2.10  0.268622  \n",
       "3  0.265280  0.265280          3.6         0.7       2.15  0.265625  \n",
       "4  0.262136  0.262136          3.6         0.7       2.15  0.262636  "
      ]
     },
     "execution_count": 419,
     "metadata": {},
     "output_type": "execute_result"
    }
   ],
   "source": [
    "#Put SVI-IV into the data\n",
    "df['SVI_IV']=df.apply(lambda x:(SVI(res_svi_equal_weighted.x,S=S0,K=x.Strike)),axis=1)\n",
    "df.head()"
   ]
  },
  {
   "cell_type": "markdown",
   "metadata": {},
   "source": [
    "## Step 3"
   ]
  },
  {
   "cell_type": "markdown",
   "metadata": {},
   "source": [
    "We may diretly apply the SVI model above to get an estimate option price  given the Strike level K. However, this is the price using midprice of Ask/Bid, the exact quote for Ask/Bid depends on the spread. We all know spread is an indicator of market liquidity. For a highly liquid asset, the spread is small, and for a hightly illiquid asset, the spread will be large. And a useful indication of liquidity is moneyness. And different in Ask/Bid price can also be regarded as a result of two values of volatility when using BS formula.\n",
    "\n",
    "I tried several methods to detect relationship between moneyness(liquidity) with spread. The first is to calculate the  Call option bid price implied volatility of midmarket implied volatility, and also for call ask, put bid and put ask. I plot the relationship between these values and moneyness.\n",
    "\n",
    "I also plot the relationship between moneyness with call option spread and put option spread. And there is a clear pattern between the two, so I fitted a polynomial regression to generate a function between moneyness and spread. And I plugged this function into my calculation using BS model to give the quote of the required call option. Though I understand the polynomial regression is an oversimplify solution to find the real relation between the two, it provides a reasonble explation in certain intervals."
   ]
  },
  {
   "cell_type": "code",
   "execution_count": 420,
   "metadata": {},
   "outputs": [],
   "source": [
    "# Calculate an alternative measure of spread\n",
    "df['Call_Bid_IV']=df.apply(lambda x:implied_vol_call(S=S0,K=x.Strike,T=time_delta_year,r=r,q=q,c=x.CBid,tol=1e-10),axis=1)\n",
    "df['Call_Ask_IV']=df.apply(lambda x:implied_vol_call(S=S0,K=x.Strike,T=time_delta_year,r=r,q=q,c=x.CAsk,tol=1e-10),axis=1)\n",
    "df['Put_Bid_IV']=df.apply(lambda x:implied_vol_put(S=S0,K=x.Strike,T=time_delta_year,r=r,q=q,p=x.PBid,tol=1e-10),axis=1)\n",
    "df['Put_Ask_IV']=df.apply(lambda x:implied_vol_put(S=S0,K=x.Strike,T=time_delta_year,r=r,q=q,p=x.PAsk,tol=1e-10),axis=1)\n",
    "df['CBid/IV']=df['Call_Bid_IV']/df['IV']\n",
    "df['CAsk/IV']=df['Call_Ask_IV']/df['IV']\n",
    "df['PBid/IV']=df['Put_Bid_IV']/df['IV']\n",
    "df['PAsk/IV']=df['Put_Ask_IV']/df['IV']"
   ]
  },
  {
   "cell_type": "code",
   "execution_count": 421,
   "metadata": {},
   "outputs": [
    {
     "data": {
      "text/html": [
       "<div>\n",
       "<style scoped>\n",
       "    .dataframe tbody tr th:only-of-type {\n",
       "        vertical-align: middle;\n",
       "    }\n",
       "\n",
       "    .dataframe tbody tr th {\n",
       "        vertical-align: top;\n",
       "    }\n",
       "\n",
       "    .dataframe thead th {\n",
       "        text-align: right;\n",
       "    }\n",
       "</style>\n",
       "<table border=\"1\" class=\"dataframe\">\n",
       "  <thead>\n",
       "    <tr style=\"text-align: right;\">\n",
       "      <th></th>\n",
       "      <th>Expiration Date</th>\n",
       "      <th>Calls</th>\n",
       "      <th>CBid</th>\n",
       "      <th>CAsk</th>\n",
       "      <th>Strike</th>\n",
       "      <th>Puts</th>\n",
       "      <th>PBid</th>\n",
       "      <th>PAsk</th>\n",
       "      <th>Moneyness</th>\n",
       "      <th>CallAvg</th>\n",
       "      <th>...</th>\n",
       "      <th>SpreadAvg</th>\n",
       "      <th>SVI_IV</th>\n",
       "      <th>Call_Bid_IV</th>\n",
       "      <th>Call_Ask_IV</th>\n",
       "      <th>Put_Bid_IV</th>\n",
       "      <th>Put_Ask_IV</th>\n",
       "      <th>CBid/IV</th>\n",
       "      <th>CAsk/IV</th>\n",
       "      <th>PBid/IV</th>\n",
       "      <th>PAsk/IV</th>\n",
       "    </tr>\n",
       "  </thead>\n",
       "  <tbody>\n",
       "    <tr>\n",
       "      <th>0</th>\n",
       "      <td>12/20/2019</td>\n",
       "      <td>SPX191220C01750000</td>\n",
       "      <td>955.0</td>\n",
       "      <td>958.7</td>\n",
       "      <td>1750.0</td>\n",
       "      <td>SPX191220P01750000</td>\n",
       "      <td>8.9</td>\n",
       "      <td>9.5</td>\n",
       "      <td>-0.433651</td>\n",
       "      <td>956.85</td>\n",
       "      <td>...</td>\n",
       "      <td>2.15</td>\n",
       "      <td>0.274642</td>\n",
       "      <td>0.263239</td>\n",
       "      <td>0.284451</td>\n",
       "      <td>0.272800</td>\n",
       "      <td>0.276216</td>\n",
       "      <td>0.958892</td>\n",
       "      <td>1.036161</td>\n",
       "      <td>0.993723</td>\n",
       "      <td>1.006162</td>\n",
       "    </tr>\n",
       "    <tr>\n",
       "      <th>1</th>\n",
       "      <td>12/20/2019</td>\n",
       "      <td>SPX191220C01775000</td>\n",
       "      <td>931.4</td>\n",
       "      <td>935.1</td>\n",
       "      <td>1775.0</td>\n",
       "      <td>SPX191220P01775000</td>\n",
       "      <td>9.7</td>\n",
       "      <td>10.3</td>\n",
       "      <td>-0.419466</td>\n",
       "      <td>933.25</td>\n",
       "      <td>...</td>\n",
       "      <td>2.15</td>\n",
       "      <td>0.271627</td>\n",
       "      <td>0.261016</td>\n",
       "      <td>0.280766</td>\n",
       "      <td>0.269720</td>\n",
       "      <td>0.272908</td>\n",
       "      <td>0.961996</td>\n",
       "      <td>1.034786</td>\n",
       "      <td>0.994076</td>\n",
       "      <td>1.005826</td>\n",
       "    </tr>\n",
       "    <tr>\n",
       "      <th>2</th>\n",
       "      <td>12/20/2019</td>\n",
       "      <td>SPX191220C01800000</td>\n",
       "      <td>907.9</td>\n",
       "      <td>911.5</td>\n",
       "      <td>1800.0</td>\n",
       "      <td>SPX191220P01800000</td>\n",
       "      <td>10.6</td>\n",
       "      <td>11.2</td>\n",
       "      <td>-0.405480</td>\n",
       "      <td>909.70</td>\n",
       "      <td>...</td>\n",
       "      <td>2.10</td>\n",
       "      <td>0.268622</td>\n",
       "      <td>0.258925</td>\n",
       "      <td>0.276851</td>\n",
       "      <td>0.266845</td>\n",
       "      <td>0.269819</td>\n",
       "      <td>0.964903</td>\n",
       "      <td>1.031705</td>\n",
       "      <td>0.994417</td>\n",
       "      <td>1.005499</td>\n",
       "    </tr>\n",
       "    <tr>\n",
       "      <th>3</th>\n",
       "      <td>12/20/2019</td>\n",
       "      <td>SPX191220C01825000</td>\n",
       "      <td>884.5</td>\n",
       "      <td>888.1</td>\n",
       "      <td>1825.0</td>\n",
       "      <td>SPX191220P01825000</td>\n",
       "      <td>11.5</td>\n",
       "      <td>12.2</td>\n",
       "      <td>-0.391687</td>\n",
       "      <td>886.30</td>\n",
       "      <td>...</td>\n",
       "      <td>2.15</td>\n",
       "      <td>0.265625</td>\n",
       "      <td>0.256906</td>\n",
       "      <td>0.273592</td>\n",
       "      <td>0.263646</td>\n",
       "      <td>0.266889</td>\n",
       "      <td>0.968433</td>\n",
       "      <td>1.031331</td>\n",
       "      <td>0.993838</td>\n",
       "      <td>1.006064</td>\n",
       "    </tr>\n",
       "    <tr>\n",
       "      <th>4</th>\n",
       "      <td>12/20/2019</td>\n",
       "      <td>SPX191220C01850000</td>\n",
       "      <td>861.1</td>\n",
       "      <td>864.7</td>\n",
       "      <td>1850.0</td>\n",
       "      <td>SPX191220P01850000</td>\n",
       "      <td>12.5</td>\n",
       "      <td>13.2</td>\n",
       "      <td>-0.378081</td>\n",
       "      <td>862.90</td>\n",
       "      <td>...</td>\n",
       "      <td>2.15</td>\n",
       "      <td>0.262636</td>\n",
       "      <td>0.254448</td>\n",
       "      <td>0.270056</td>\n",
       "      <td>0.260606</td>\n",
       "      <td>0.263644</td>\n",
       "      <td>0.970670</td>\n",
       "      <td>1.030214</td>\n",
       "      <td>0.994163</td>\n",
       "      <td>1.005753</td>\n",
       "    </tr>\n",
       "  </tbody>\n",
       "</table>\n",
       "<p>5 rows × 26 columns</p>\n",
       "</div>"
      ],
      "text/plain": [
       "  Expiration Date               Calls   CBid   CAsk  Strike  \\\n",
       "0      12/20/2019  SPX191220C01750000  955.0  958.7  1750.0   \n",
       "1      12/20/2019  SPX191220C01775000  931.4  935.1  1775.0   \n",
       "2      12/20/2019  SPX191220C01800000  907.9  911.5  1800.0   \n",
       "3      12/20/2019  SPX191220C01825000  884.5  888.1  1825.0   \n",
       "4      12/20/2019  SPX191220C01850000  861.1  864.7  1850.0   \n",
       "\n",
       "                 Puts  PBid  PAsk  Moneyness  CallAvg    ...     SpreadAvg  \\\n",
       "0  SPX191220P01750000   8.9   9.5  -0.433651   956.85    ...          2.15   \n",
       "1  SPX191220P01775000   9.7  10.3  -0.419466   933.25    ...          2.15   \n",
       "2  SPX191220P01800000  10.6  11.2  -0.405480   909.70    ...          2.10   \n",
       "3  SPX191220P01825000  11.5  12.2  -0.391687   886.30    ...          2.15   \n",
       "4  SPX191220P01850000  12.5  13.2  -0.378081   862.90    ...          2.15   \n",
       "\n",
       "     SVI_IV  Call_Bid_IV  Call_Ask_IV  Put_Bid_IV  Put_Ask_IV   CBid/IV  \\\n",
       "0  0.274642     0.263239     0.284451    0.272800    0.276216  0.958892   \n",
       "1  0.271627     0.261016     0.280766    0.269720    0.272908  0.961996   \n",
       "2  0.268622     0.258925     0.276851    0.266845    0.269819  0.964903   \n",
       "3  0.265625     0.256906     0.273592    0.263646    0.266889  0.968433   \n",
       "4  0.262636     0.254448     0.270056    0.260606    0.263644  0.970670   \n",
       "\n",
       "    CAsk/IV   PBid/IV   PAsk/IV  \n",
       "0  1.036161  0.993723  1.006162  \n",
       "1  1.034786  0.994076  1.005826  \n",
       "2  1.031705  0.994417  1.005499  \n",
       "3  1.031331  0.993838  1.006064  \n",
       "4  1.030214  0.994163  1.005753  \n",
       "\n",
       "[5 rows x 26 columns]"
      ]
     },
     "execution_count": 421,
     "metadata": {},
     "output_type": "execute_result"
    }
   ],
   "source": [
    "df.head()"
   ]
  },
  {
   "cell_type": "code",
   "execution_count": 422,
   "metadata": {},
   "outputs": [
    {
     "data": {
      "text/plain": [
       "<matplotlib.legend.Legend at 0x1a1a208a90>"
      ]
     },
     "execution_count": 422,
     "metadata": {},
     "output_type": "execute_result"
    },
    {
     "data": {
      "image/png": "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\n",
      "text/plain": [
       "<Figure size 432x288 with 2 Axes>"
      ]
     },
     "metadata": {},
     "output_type": "display_data"
    }
   ],
   "source": [
    "#plot the relationship of moneyness and spread\n",
    "fig=plt.figure()\n",
    "ax1=fig.add_subplot(1,2,1)\n",
    "ax1.plot(df['Moneyness'],df['Call_spread'],label='Call_Spread')\n",
    "ax1.legend(loc='best')\n",
    "ax2=fig.add_subplot(1,2,2)\n",
    "ax2.plot(df['Moneyness'],df['Put_spread'],label='Put_Spread')\n",
    "ax2.legend(loc='best')"
   ]
  },
  {
   "cell_type": "code",
   "execution_count": 423,
   "metadata": {},
   "outputs": [
    {
     "data": {
      "text/plain": [
       "<matplotlib.legend.Legend at 0x1a1a444c88>"
      ]
     },
     "execution_count": 423,
     "metadata": {},
     "output_type": "execute_result"
    },
    {
     "data": {
      "image/png": "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\n",
      "text/plain": [
       "<Figure size 432x288 with 4 Axes>"
      ]
     },
     "metadata": {},
     "output_type": "display_data"
    }
   ],
   "source": [
    "# Plot our newly-defined measure of spread with moneyness\n",
    "fig=plt.figure()\n",
    "ax1=fig.add_subplot(2,2,1)\n",
    "ax1.plot(df['Moneyness'],df['CBid/IV'],label='CBid/IV')\n",
    "ax1.legend(loc='best')\n",
    "ax2=fig.add_subplot(2,2,2)\n",
    "ax2.plot(df['Moneyness'],df['CAsk/IV'],label='CAsk/IV')\n",
    "ax2.legend(loc='best')\n",
    "ax3=fig.add_subplot(2,2,3)\n",
    "ax3.plot(df['Moneyness'],df['PBid/IV'],label='PBid/IV')\n",
    "ax3.legend(loc='best')\n",
    "ax4=fig.add_subplot(2,2,4)\n",
    "ax4.plot(df['Moneyness'],df['PAsk/IV'],label='PAsk/IV')\n",
    "ax4.legend(loc='best')"
   ]
  },
  {
   "cell_type": "code",
   "execution_count": 424,
   "metadata": {},
   "outputs": [
    {
     "name": "stdout",
     "output_type": "stream",
     "text": [
      "[-507.98850655 -157.1980519    84.95423579   15.1422442    -9.55515264\n",
      "    1.57744486]\n"
     ]
    },
    {
     "data": {
      "text/plain": [
       "<matplotlib.legend.Legend at 0x1a1a56c940>"
      ]
     },
     "execution_count": 424,
     "metadata": {},
     "output_type": "execute_result"
    },
    {
     "data": {
      "image/png": "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\n",
      "text/plain": [
       "<Figure size 432x288 with 1 Axes>"
      ]
     },
     "metadata": {},
     "output_type": "display_data"
    }
   ],
   "source": [
    "#polynomial regression to find get an estimate of spread for call option and plot result\n",
    "x0_call_spread=np.array([0.2,0.2,-0.2,0,0,0])\n",
    "def objective_call_spread(x_):\n",
    "    return np.array(df.apply(lambda x:x.Call_spread-(x_[0]*(x.Moneyness**5)+x_[1]*(x.Moneyness**4)+x_[2]*(x.Moneyness**3)+x_[3]*(x.Moneyness**2)+x_[4]*(x.Moneyness)+x_[5]) ,axis=1))\n",
    "res_svi_call_spread = least_squares(objective_call_spread, x0_call_spread)\n",
    "print(res_svi_call_spread.x) \n",
    "spread_call_estimate=[]\n",
    "def call_spread(m):\n",
    "    return np.dot(res_svi_call_spread.x,np.array([m**5,m**4,m**3,m**2,m,1]))\n",
    "for i in np.linspace(df['Moneyness'].min(),df['Moneyness'].max(),100):\n",
    "    spread_call_estimate.append(call_spread(i))\n",
    "fig=plt.figure()\n",
    "ax1=fig.add_subplot(1,1,1)\n",
    "ax1.plot(df['Moneyness'],df['Call_spread'],label='Call_Spread')\n",
    "ax1.plot(np.linspace(df['Moneyness'].min(),df['Moneyness'].max(),100),spread_call_estimate,label='Call_Spread_Estimate')\n",
    "ax1.legend(loc='best')"
   ]
  },
  {
   "cell_type": "code",
   "execution_count": 425,
   "metadata": {},
   "outputs": [
    {
     "name": "stdout",
     "output_type": "stream",
     "text": [
      "[-467.06474456 -371.86280421  -35.87334429   32.58308174    9.58492766\n",
      "    1.68687634]\n"
     ]
    },
    {
     "data": {
      "text/plain": [
       "<matplotlib.legend.Legend at 0x1a1a605080>"
      ]
     },
     "execution_count": 425,
     "metadata": {},
     "output_type": "execute_result"
    },
    {
     "data": {
      "image/png": "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\n",
      "text/plain": [
       "<Figure size 432x288 with 1 Axes>"
      ]
     },
     "metadata": {},
     "output_type": "display_data"
    }
   ],
   "source": [
    "#polynomial regression to find get an estimate of spread for put option and plot result\n",
    "x0_put_spread=np.array([0.2,0.2,-0.2,0,0,0])\n",
    "def objective_put_spread(x_):\n",
    "    return np.array(df.apply(lambda x:x.Put_spread-(x_[0]*(x.Moneyness**5)+x_[1]*(x.Moneyness**4)+x_[2]*(x.Moneyness**3)+x_[3]*(x.Moneyness**2)+x_[4]*(x.Moneyness)+x_[5]) ,axis=1))\n",
    "res_svi_put_spread = least_squares(objective_put_spread, x0_put_spread)\n",
    "print(res_svi_put_spread.x) \n",
    "spread_put_estimate=[]\n",
    "def put_spread(m):\n",
    "    return np.dot(res_svi_put_spread.x,np.array([m**5,m**4,m**3,m**2,m,1]))\n",
    "for i in np.linspace(df['Moneyness'].min(),df['Moneyness'].max(),100):\n",
    "    spread_put_estimate.append(put_spread(i))\n",
    "fig=plt.figure()\n",
    "ax1=fig.add_subplot(1,1,1)\n",
    "ax1.plot(df['Moneyness'],df['Put_spread'],label='Put_Spread')\n",
    "ax1.plot(np.linspace(df['Moneyness'].min(),df['Moneyness'].max(),100),spread_put_estimate,label='Put_Spread_Estimate')\n",
    "ax1.legend(loc='best')"
   ]
  },
  {
   "cell_type": "code",
   "execution_count": 426,
   "metadata": {},
   "outputs": [
    {
     "name": "stdout",
     "output_type": "stream",
     "text": [
      "for a strike=2707.88 Call option, the ask price is 162.81293384446533, and the bid price is 161.26306434141244\n"
     ]
    }
   ],
   "source": [
    "#define quote function of Ask/Bid for both call and put option\n",
    "def Quote_Call(K):\n",
    "    vol=SVI(res_svi_equal_weighted.x,S=S0,K=K)\n",
    "    Midprice=BS_fomula_call(S0,vol,K,time_delta_year,r,q)\n",
    "    spread=call_spread(np.log(K/S0))\n",
    "    AskPrice=Midprice+spread/2\n",
    "    BidPrice=Midprice-spread/2\n",
    "    return [AskPrice,BidPrice]\n",
    "def Quote_Put(K):\n",
    "    vol=SVI(res_svi_equal_weighted.x,S=S0,K=K)\n",
    "    BS_fomula_put(S0,vol,K,time_delta_year,r,q)\n",
    "    spread=put_spread(np.log(K/S0))\n",
    "    AskPrice=Midprice+spread/2\n",
    "    BidPrice=Midprice-spread/2\n",
    "    return [AskPrice,BidPrice]\n",
    "print(\"for a strike=2707.88 Call option, the ask price is \"+str(Quote_Call(2707.88)[0])+\", and the bid price is \"+str(Quote_Call(2707.88)[1]))\n"
   ]
  },
  {
   "cell_type": "markdown",
   "metadata": {},
   "source": [
    "## Step 4"
   ]
  },
  {
   "cell_type": "markdown",
   "metadata": {},
   "source": [
    "To price a variance swap is to find the the Variance(Implied) that can be used to calculate the payoff function, which is (Variance(Realized)-Variance(Implied))*N, where N is money paid per unit of excess variance. And the payoff of this swap can be replicate by a inversely proportional to K^2 weighted put/call option with differnt K. The result is as follows."
   ]
  },
  {
   "cell_type": "code",
   "execution_count": 428,
   "metadata": {},
   "outputs": [
    {
     "name": "stdout",
     "output_type": "stream",
     "text": [
      "Price of Varince Swaps is 0.020234306648743334\n"
     ]
    }
   ],
   "source": [
    "#Find the price of a variance swap\n",
    "def Quote_Call_mid(K):\n",
    "    vol=SVI(res_svi_equal_weighted.x,S=S0,K=K)\n",
    "    return BS_fomula_call(S0,vol,K,time_delta_year,r,q)\n",
    "def Quote_Put_mid(K):\n",
    "    vol=SVI(res_svi_equal_weighted.x,S=S0,K=K)\n",
    "    return BS_fomula_put(S0,vol,K,time_delta_year,r,q)\n",
    "variance_swap=0\n",
    "weight_vector=np.array([1/(i**2) for i in range(1,10000,1)])\n",
    "weight_vector=weight_vector/weight_vector.sum()\n",
    "put_vector=[Quote_Put_mid(i) for i in range(1,int(S0))]\n",
    "call_vector=[Quote_Call_mid(i) for i in range(int(S0),10000,1)]\n",
    "pre_cal_vector=np.array(put_vector+call_vector)\n",
    "P_varswap=np.dot(weight_vector,pre_cal_vector)*np.exp(r*time_delta_year)*2/time_delta_year\n",
    "print(\"Price of Varince Swaps is \"+str(P_varswap))"
   ]
  },
  {
   "cell_type": "code",
   "execution_count": 429,
   "metadata": {},
   "outputs": [
    {
     "data": {
      "text/plain": [
       "0.14224009079106276"
      ]
     },
     "execution_count": 429,
     "metadata": {},
     "output_type": "execute_result"
    }
   ],
   "source": [
    "#Give a measure of volotility comparing to IV of the data\n",
    "np.sqrt(0.02023224342824978)"
   ]
  },
  {
   "cell_type": "code",
   "execution_count": null,
   "metadata": {},
   "outputs": [],
   "source": []
  }
 ],
 "metadata": {
  "kernelspec": {
   "display_name": "Python 3",
   "language": "python",
   "name": "python3"
  },
  "language_info": {
   "codemirror_mode": {
    "name": "ipython",
    "version": 3
   },
   "file_extension": ".py",
   "mimetype": "text/x-python",
   "name": "python",
   "nbconvert_exporter": "python",
   "pygments_lexer": "ipython3",
   "version": "3.6.5"
  }
 },
 "nbformat": 4,
 "nbformat_minor": 2
}
